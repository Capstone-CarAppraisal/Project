{
 "cells": [
  {
   "cell_type": "markdown",
   "metadata": {},
   "source": [
    "## Appraisal model v.1\n",
    "appraisal model using xgboost\n",
    "### Import Libraries and Read preprocessed data"
   ]
  },
  {
   "cell_type": "code",
   "execution_count": 1,
   "metadata": {},
   "outputs": [],
   "source": [
    "import pandas as pd\n",
    "import numpy as np\n",
    "import xgboost as xg\n",
    "from sklearn.model_selection import train_test_split \n",
    "from sklearn.metrics import mean_squared_error as MSE \n",
    "from sklearn.metrics import mean_absolute_error as MAE "
   ]
  },
  {
   "cell_type": "code",
   "execution_count": 2,
   "metadata": {},
   "outputs": [
    {
     "data": {
      "text/html": [
       "<div>\n",
       "<style scoped>\n",
       "    .dataframe tbody tr th:only-of-type {\n",
       "        vertical-align: middle;\n",
       "    }\n",
       "\n",
       "    .dataframe tbody tr th {\n",
       "        vertical-align: top;\n",
       "    }\n",
       "\n",
       "    .dataframe thead th {\n",
       "        text-align: right;\n",
       "    }\n",
       "</style>\n",
       "<table border=\"1\" class=\"dataframe\">\n",
       "  <thead>\n",
       "    <tr style=\"text-align: right;\">\n",
       "      <th></th>\n",
       "      <th>car_year</th>\n",
       "      <th>model_year_start</th>\n",
       "      <th>model_year_end</th>\n",
       "      <th>mile</th>\n",
       "      <th>cost</th>\n",
       "      <th>model_2</th>\n",
       "      <th>model_3</th>\n",
       "      <th>model_323</th>\n",
       "      <th>model_BT-50</th>\n",
       "      <th>model_BT-50 PRO</th>\n",
       "      <th>...</th>\n",
       "      <th>color_gray</th>\n",
       "      <th>color_green</th>\n",
       "      <th>color_orange</th>\n",
       "      <th>color_other</th>\n",
       "      <th>color_red</th>\n",
       "      <th>color_silver</th>\n",
       "      <th>color_sky</th>\n",
       "      <th>color_white</th>\n",
       "      <th>color_yellow</th>\n",
       "      <th>car_model</th>\n",
       "    </tr>\n",
       "  </thead>\n",
       "  <tbody>\n",
       "    <tr>\n",
       "      <th>0</th>\n",
       "      <td>-0.436669</td>\n",
       "      <td>-0.930677</td>\n",
       "      <td>-1.150860</td>\n",
       "      <td>0.819832</td>\n",
       "      <td>245000</td>\n",
       "      <td>1</td>\n",
       "      <td>0</td>\n",
       "      <td>0</td>\n",
       "      <td>0</td>\n",
       "      <td>0</td>\n",
       "      <td>...</td>\n",
       "      <td>0</td>\n",
       "      <td>0</td>\n",
       "      <td>0</td>\n",
       "      <td>0</td>\n",
       "      <td>0</td>\n",
       "      <td>0</td>\n",
       "      <td>0</td>\n",
       "      <td>1</td>\n",
       "      <td>0</td>\n",
       "      <td>Mazda 2 1.5 Sports Maxx Sports Hatchback</td>\n",
       "    </tr>\n",
       "    <tr>\n",
       "      <th>1</th>\n",
       "      <td>-1.212501</td>\n",
       "      <td>-0.603686</td>\n",
       "      <td>-1.150860</td>\n",
       "      <td>-0.053048</td>\n",
       "      <td>269000</td>\n",
       "      <td>0</td>\n",
       "      <td>1</td>\n",
       "      <td>0</td>\n",
       "      <td>0</td>\n",
       "      <td>0</td>\n",
       "      <td>...</td>\n",
       "      <td>0</td>\n",
       "      <td>0</td>\n",
       "      <td>0</td>\n",
       "      <td>0</td>\n",
       "      <td>0</td>\n",
       "      <td>0</td>\n",
       "      <td>0</td>\n",
       "      <td>0</td>\n",
       "      <td>0</td>\n",
       "      <td>Mazda 3 2.0 Maxx Sports Hatchback</td>\n",
       "    </tr>\n",
       "    <tr>\n",
       "      <th>2</th>\n",
       "      <td>1.114996</td>\n",
       "      <td>0.050294</td>\n",
       "      <td>0.563974</td>\n",
       "      <td>-0.722757</td>\n",
       "      <td>390000</td>\n",
       "      <td>1</td>\n",
       "      <td>0</td>\n",
       "      <td>0</td>\n",
       "      <td>0</td>\n",
       "      <td>0</td>\n",
       "      <td>...</td>\n",
       "      <td>1</td>\n",
       "      <td>0</td>\n",
       "      <td>0</td>\n",
       "      <td>0</td>\n",
       "      <td>0</td>\n",
       "      <td>0</td>\n",
       "      <td>0</td>\n",
       "      <td>0</td>\n",
       "      <td>0</td>\n",
       "      <td>Mazda 2 1.3 S Leather Sedan</td>\n",
       "    </tr>\n",
       "    <tr>\n",
       "      <th>3</th>\n",
       "      <td>1.114996</td>\n",
       "      <td>0.867769</td>\n",
       "      <td>0.563974</td>\n",
       "      <td>-0.045523</td>\n",
       "      <td>650000</td>\n",
       "      <td>0</td>\n",
       "      <td>0</td>\n",
       "      <td>0</td>\n",
       "      <td>0</td>\n",
       "      <td>0</td>\n",
       "      <td>...</td>\n",
       "      <td>0</td>\n",
       "      <td>0</td>\n",
       "      <td>0</td>\n",
       "      <td>0</td>\n",
       "      <td>1</td>\n",
       "      <td>0</td>\n",
       "      <td>0</td>\n",
       "      <td>0</td>\n",
       "      <td>0</td>\n",
       "      <td>Mazda CX-30 2.0 SP SUV</td>\n",
       "    </tr>\n",
       "    <tr>\n",
       "      <th>4</th>\n",
       "      <td>-0.178058</td>\n",
       "      <td>0.050294</td>\n",
       "      <td>0.563974</td>\n",
       "      <td>1.007953</td>\n",
       "      <td>357900</td>\n",
       "      <td>1</td>\n",
       "      <td>0</td>\n",
       "      <td>0</td>\n",
       "      <td>0</td>\n",
       "      <td>0</td>\n",
       "      <td>...</td>\n",
       "      <td>0</td>\n",
       "      <td>0</td>\n",
       "      <td>0</td>\n",
       "      <td>0</td>\n",
       "      <td>1</td>\n",
       "      <td>0</td>\n",
       "      <td>0</td>\n",
       "      <td>0</td>\n",
       "      <td>0</td>\n",
       "      <td>Mazda 2 1.3 High Connect Sedan</td>\n",
       "    </tr>\n",
       "  </tbody>\n",
       "</table>\n",
       "<p>5 rows × 152 columns</p>\n",
       "</div>"
      ],
      "text/plain": [
       "   car_year  model_year_start  model_year_end      mile    cost  model_2   \n",
       "0 -0.436669         -0.930677       -1.150860  0.819832  245000        1  \\\n",
       "1 -1.212501         -0.603686       -1.150860 -0.053048  269000        0   \n",
       "2  1.114996          0.050294        0.563974 -0.722757  390000        1   \n",
       "3  1.114996          0.867769        0.563974 -0.045523  650000        0   \n",
       "4 -0.178058          0.050294        0.563974  1.007953  357900        1   \n",
       "\n",
       "   model_3  model_323  model_BT-50  model_BT-50 PRO  ...  color_gray   \n",
       "0        0          0            0                0  ...           0  \\\n",
       "1        1          0            0                0  ...           0   \n",
       "2        0          0            0                0  ...           1   \n",
       "3        0          0            0                0  ...           0   \n",
       "4        0          0            0                0  ...           0   \n",
       "\n",
       "   color_green  color_orange  color_other  color_red  color_silver  color_sky   \n",
       "0            0             0            0          0             0          0  \\\n",
       "1            0             0            0          0             0          0   \n",
       "2            0             0            0          0             0          0   \n",
       "3            0             0            0          1             0          0   \n",
       "4            0             0            0          1             0          0   \n",
       "\n",
       "   color_white  color_yellow                                 car_model  \n",
       "0            1             0  Mazda 2 1.5 Sports Maxx Sports Hatchback  \n",
       "1            0             0         Mazda 3 2.0 Maxx Sports Hatchback  \n",
       "2            0             0               Mazda 2 1.3 S Leather Sedan  \n",
       "3            0             0                    Mazda CX-30 2.0 SP SUV  \n",
       "4            0             0            Mazda 2 1.3 High Connect Sedan  \n",
       "\n",
       "[5 rows x 152 columns]"
      ]
     },
     "execution_count": 2,
     "metadata": {},
     "output_type": "execute_result"
    }
   ],
   "source": [
    "df = pd.read_csv('../AppraisalDataPreprocessing/preprocessed_data.csv')\n",
    "df.head(5)"
   ]
  },
  {
   "cell_type": "markdown",
   "metadata": {},
   "source": [
    "### Appraise cost using xgboost\n",
    "get mean of each car model for evaluate"
   ]
  },
  {
   "cell_type": "code",
   "execution_count": 3,
   "metadata": {},
   "outputs": [],
   "source": [
    "df['car_model_mean'] = df['cost'].groupby(df['car_model']).transform(np.mean)"
   ]
  },
  {
   "cell_type": "markdown",
   "metadata": {},
   "source": [
    "seperate target column from dataframe"
   ]
  },
  {
   "cell_type": "code",
   "execution_count": 4,
   "metadata": {},
   "outputs": [],
   "source": [
    "X = df.drop(columns=['cost', 'car_model'])\n",
    "y = df['cost']"
   ]
  },
  {
   "cell_type": "markdown",
   "metadata": {},
   "source": [
    "splitting data  \n",
    "train : test = 80 : 20  \n",
    "stratify by car model"
   ]
  },
  {
   "cell_type": "code",
   "execution_count": 5,
   "metadata": {},
   "outputs": [],
   "source": [
    "car_model = df['car_model']\n",
    "df.drop(columns=['car_model'], inplace=True)\n",
    "X_train, X_test, y_train, y_test = train_test_split(X, y, test_size=0.2, stratify=car_model, random_state=1234)"
   ]
  },
  {
   "cell_type": "code",
   "execution_count": 6,
   "metadata": {},
   "outputs": [],
   "source": [
    "X_train.drop(columns=['car_model_mean'], inplace=True)\n",
    "car_model_mean = X_test['car_model_mean']\n",
    "X_test.drop(columns=['car_model_mean'], inplace=True)"
   ]
  },
  {
   "cell_type": "markdown",
   "metadata": {},
   "source": [
    "Use xgboost model to appraise the value"
   ]
  },
  {
   "cell_type": "code",
   "execution_count": 7,
   "metadata": {},
   "outputs": [
    {
     "name": "stdout",
     "output_type": "stream",
     "text": [
      "[20:55:13] WARNING: C:\\buildkite-agent\\builds\\buildkite-windows-cpu-autoscaling-group-i-0fdc6d574b9c0d168-1\\xgboost\\xgboost-ci-windows\\src\\objective\\regression_obj.cu:213: reg:linear is now deprecated in favor of reg:squarederror.\n"
     ]
    }
   ],
   "source": [
    "xgb_r = xg.XGBRegressor(objective='reg:linear', n_estimators=10, seed=1234)\n",
    "xgb_r.fit(X_train, y_train)\n",
    "pred = xgb_r.predict(X_test)"
   ]
  },
  {
   "cell_type": "markdown",
   "metadata": {},
   "source": [
    "### Evaluate model"
   ]
  },
  {
   "cell_type": "code",
   "execution_count": 8,
   "metadata": {},
   "outputs": [
    {
     "name": "stdout",
     "output_type": "stream",
     "text": [
      "MAE =  39384.16048547836\n",
      "MSE =  3878927906.6514335\n",
      "RMSE =  62281.0397043228\n"
     ]
    }
   ],
   "source": [
    "mae = MAE(y_test, pred)\n",
    "mse = MSE(y_test, pred, squared=True)\n",
    "rmse = MSE(y_test, pred, squared=False)\n",
    "\n",
    "print('MAE = ', mae)\n",
    "print('MSE = ', mse)\n",
    "print('RMSE = ', rmse)"
   ]
  },
  {
   "cell_type": "code",
   "execution_count": 9,
   "metadata": {},
   "outputs": [
    {
     "name": "stdout",
     "output_type": "stream",
     "text": [
      "MAE =  52904.42943926512\n",
      "MSE =  5953253163.0976515\n",
      "RMSE =  77157.32734548062\n"
     ]
    }
   ],
   "source": [
    "mae = MAE(y_test, car_model_mean)\n",
    "mse = MSE(y_test, car_model_mean, squared=True)\n",
    "rmse = MSE(y_test, car_model_mean, squared=False)\n",
    "\n",
    "print('MAE = ', mae)\n",
    "print('MSE = ', mse)\n",
    "print('RMSE = ', rmse)"
   ]
  }
 ],
 "metadata": {
  "kernelspec": {
   "display_name": "Python 3",
   "language": "python",
   "name": "python3"
  },
  "language_info": {
   "codemirror_mode": {
    "name": "ipython",
    "version": 3
   },
   "file_extension": ".py",
   "mimetype": "text/x-python",
   "name": "python",
   "nbconvert_exporter": "python",
   "pygments_lexer": "ipython3",
   "version": "3.10.11"
  }
 },
 "nbformat": 4,
 "nbformat_minor": 2
}
