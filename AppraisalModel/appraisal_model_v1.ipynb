{
 "cells": [
  {
   "cell_type": "markdown",
   "metadata": {},
   "source": [
    "## Appraisal model v.1\n",
    "appraisal model using xgboost"
   ]
  },
  {
   "cell_type": "markdown",
   "metadata": {},
   "source": [
    "### Import Libraries and Read preprocessed data"
   ]
  },
  {
   "cell_type": "code",
   "execution_count": 154,
   "metadata": {},
   "outputs": [],
   "source": [
    "import pandas as pd\n",
    "import numpy as np\n",
    "import xgboost as xg\n",
    "from sklearn.model_selection import train_test_split \n",
    "from sklearn.metrics import mean_squared_error as MSE \n",
    "from sklearn.metrics import mean_absolute_error as MAE \n",
    "from sklearn.metrics import mean_absolute_percentage_error as MAPE\n",
    "from sklearn.metrics import r2_score\n",
    "from sklearn.model_selection import GridSearchCV\n",
    "import statistics"
   ]
  },
  {
   "cell_type": "code",
   "execution_count": 155,
   "metadata": {},
   "outputs": [
    {
     "data": {
      "text/html": [
       "<div>\n",
       "<style scoped>\n",
       "    .dataframe tbody tr th:only-of-type {\n",
       "        vertical-align: middle;\n",
       "    }\n",
       "\n",
       "    .dataframe tbody tr th {\n",
       "        vertical-align: top;\n",
       "    }\n",
       "\n",
       "    .dataframe thead th {\n",
       "        text-align: right;\n",
       "    }\n",
       "</style>\n",
       "<table border=\"1\" class=\"dataframe\">\n",
       "  <thead>\n",
       "    <tr style=\"text-align: right;\">\n",
       "      <th></th>\n",
       "      <th>car_year</th>\n",
       "      <th>model_year_start</th>\n",
       "      <th>model_year_end</th>\n",
       "      <th>mile</th>\n",
       "      <th>cost</th>\n",
       "      <th>model_3</th>\n",
       "      <th>model_BT-50 PRO</th>\n",
       "      <th>model_CX-3</th>\n",
       "      <th>model_CX-30</th>\n",
       "      <th>model_CX-5</th>\n",
       "      <th>...</th>\n",
       "      <th>color_cream</th>\n",
       "      <th>color_gold</th>\n",
       "      <th>color_gray</th>\n",
       "      <th>color_green</th>\n",
       "      <th>color_other</th>\n",
       "      <th>color_red</th>\n",
       "      <th>color_silver</th>\n",
       "      <th>color_sky</th>\n",
       "      <th>color_white</th>\n",
       "      <th>car_model</th>\n",
       "    </tr>\n",
       "  </thead>\n",
       "  <tbody>\n",
       "    <tr>\n",
       "      <th>0</th>\n",
       "      <td>-0.622813</td>\n",
       "      <td>-1.894351</td>\n",
       "      <td>-1.742805</td>\n",
       "      <td>0.831625</td>\n",
       "      <td>245000</td>\n",
       "      <td>0</td>\n",
       "      <td>0</td>\n",
       "      <td>0</td>\n",
       "      <td>0</td>\n",
       "      <td>0</td>\n",
       "      <td>...</td>\n",
       "      <td>0</td>\n",
       "      <td>0</td>\n",
       "      <td>0</td>\n",
       "      <td>0</td>\n",
       "      <td>0</td>\n",
       "      <td>0</td>\n",
       "      <td>0</td>\n",
       "      <td>0</td>\n",
       "      <td>1</td>\n",
       "      <td>Mazda 2 1.5 Sports Maxx Sports Hatchback</td>\n",
       "    </tr>\n",
       "    <tr>\n",
       "      <th>1</th>\n",
       "      <td>-1.572176</td>\n",
       "      <td>-1.189571</td>\n",
       "      <td>-1.742805</td>\n",
       "      <td>-0.053644</td>\n",
       "      <td>269000</td>\n",
       "      <td>1</td>\n",
       "      <td>0</td>\n",
       "      <td>0</td>\n",
       "      <td>0</td>\n",
       "      <td>0</td>\n",
       "      <td>...</td>\n",
       "      <td>0</td>\n",
       "      <td>0</td>\n",
       "      <td>0</td>\n",
       "      <td>0</td>\n",
       "      <td>0</td>\n",
       "      <td>0</td>\n",
       "      <td>0</td>\n",
       "      <td>0</td>\n",
       "      <td>0</td>\n",
       "      <td>Mazda 3 2.0 Maxx Sports Hatchback</td>\n",
       "    </tr>\n",
       "    <tr>\n",
       "      <th>2</th>\n",
       "      <td>1.275912</td>\n",
       "      <td>0.219990</td>\n",
       "      <td>0.922832</td>\n",
       "      <td>-0.732859</td>\n",
       "      <td>390000</td>\n",
       "      <td>0</td>\n",
       "      <td>0</td>\n",
       "      <td>0</td>\n",
       "      <td>0</td>\n",
       "      <td>0</td>\n",
       "      <td>...</td>\n",
       "      <td>0</td>\n",
       "      <td>0</td>\n",
       "      <td>1</td>\n",
       "      <td>0</td>\n",
       "      <td>0</td>\n",
       "      <td>0</td>\n",
       "      <td>0</td>\n",
       "      <td>0</td>\n",
       "      <td>0</td>\n",
       "      <td>Mazda 2 1.3 S Leather Sedan</td>\n",
       "    </tr>\n",
       "    <tr>\n",
       "      <th>3</th>\n",
       "      <td>1.275912</td>\n",
       "      <td>1.981942</td>\n",
       "      <td>0.922832</td>\n",
       "      <td>-0.046012</td>\n",
       "      <td>650000</td>\n",
       "      <td>0</td>\n",
       "      <td>0</td>\n",
       "      <td>0</td>\n",
       "      <td>1</td>\n",
       "      <td>0</td>\n",
       "      <td>...</td>\n",
       "      <td>0</td>\n",
       "      <td>0</td>\n",
       "      <td>0</td>\n",
       "      <td>0</td>\n",
       "      <td>0</td>\n",
       "      <td>1</td>\n",
       "      <td>0</td>\n",
       "      <td>0</td>\n",
       "      <td>0</td>\n",
       "      <td>Mazda CX-30 2.0 SP SUV</td>\n",
       "    </tr>\n",
       "    <tr>\n",
       "      <th>4</th>\n",
       "      <td>-0.306359</td>\n",
       "      <td>0.219990</td>\n",
       "      <td>0.922832</td>\n",
       "      <td>1.022416</td>\n",
       "      <td>357900</td>\n",
       "      <td>0</td>\n",
       "      <td>0</td>\n",
       "      <td>0</td>\n",
       "      <td>0</td>\n",
       "      <td>0</td>\n",
       "      <td>...</td>\n",
       "      <td>0</td>\n",
       "      <td>0</td>\n",
       "      <td>0</td>\n",
       "      <td>0</td>\n",
       "      <td>0</td>\n",
       "      <td>1</td>\n",
       "      <td>0</td>\n",
       "      <td>0</td>\n",
       "      <td>0</td>\n",
       "      <td>Mazda 2 1.3 High Connect Sedan</td>\n",
       "    </tr>\n",
       "  </tbody>\n",
       "</table>\n",
       "<p>5 rows × 108 columns</p>\n",
       "</div>"
      ],
      "text/plain": [
       "   car_year  model_year_start  model_year_end      mile    cost  model_3   \n",
       "0 -0.622813         -1.894351       -1.742805  0.831625  245000        0  \\\n",
       "1 -1.572176         -1.189571       -1.742805 -0.053644  269000        1   \n",
       "2  1.275912          0.219990        0.922832 -0.732859  390000        0   \n",
       "3  1.275912          1.981942        0.922832 -0.046012  650000        0   \n",
       "4 -0.306359          0.219990        0.922832  1.022416  357900        0   \n",
       "\n",
       "   model_BT-50 PRO  model_CX-3  model_CX-30  model_CX-5  ...  color_cream   \n",
       "0                0           0            0           0  ...            0  \\\n",
       "1                0           0            0           0  ...            0   \n",
       "2                0           0            0           0  ...            0   \n",
       "3                0           0            1           0  ...            0   \n",
       "4                0           0            0           0  ...            0   \n",
       "\n",
       "   color_gold  color_gray  color_green  color_other  color_red  color_silver   \n",
       "0           0           0            0            0          0             0  \\\n",
       "1           0           0            0            0          0             0   \n",
       "2           0           1            0            0          0             0   \n",
       "3           0           0            0            0          1             0   \n",
       "4           0           0            0            0          1             0   \n",
       "\n",
       "   color_sky  color_white                                 car_model  \n",
       "0          0            1  Mazda 2 1.5 Sports Maxx Sports Hatchback  \n",
       "1          0            0         Mazda 3 2.0 Maxx Sports Hatchback  \n",
       "2          0            0               Mazda 2 1.3 S Leather Sedan  \n",
       "3          0            0                    Mazda CX-30 2.0 SP SUV  \n",
       "4          0            0            Mazda 2 1.3 High Connect Sedan  \n",
       "\n",
       "[5 rows x 108 columns]"
      ]
     },
     "execution_count": 155,
     "metadata": {},
     "output_type": "execute_result"
    }
   ],
   "source": [
    "df = pd.read_csv('../AppraisalDataPreprocessing/preprocessed_data.csv')\n",
    "df.head(5)"
   ]
  },
  {
   "cell_type": "markdown",
   "metadata": {},
   "source": [
    "### Appraise cost using xgboost"
   ]
  },
  {
   "cell_type": "markdown",
   "metadata": {},
   "source": [
    "get mean of each car model for evaluate"
   ]
  },
  {
   "cell_type": "code",
   "execution_count": 156,
   "metadata": {},
   "outputs": [],
   "source": [
    "df['car_model_mean'] = df['cost'].groupby(df['car_model']).transform(np.mean)"
   ]
  },
  {
   "cell_type": "markdown",
   "metadata": {},
   "source": [
    "seperate target column from dataframe"
   ]
  },
  {
   "cell_type": "code",
   "execution_count": 157,
   "metadata": {},
   "outputs": [],
   "source": [
    "X = df.drop(columns=['cost', 'car_model'])\n",
    "y = df['cost']"
   ]
  },
  {
   "cell_type": "markdown",
   "metadata": {},
   "source": [
    "splitting data  \n",
    "train : test = 80 : 20  \n",
    "stratify by car model"
   ]
  },
  {
   "cell_type": "code",
   "execution_count": 158,
   "metadata": {},
   "outputs": [],
   "source": [
    "car_model = df['car_model']\n",
    "df.drop(columns=['car_model'], inplace=True)\n",
    "X_train, X_test, y_train, y_test = train_test_split(X, y, test_size=0.2, stratify=car_model, random_state=1234)"
   ]
  },
  {
   "cell_type": "code",
   "execution_count": 159,
   "metadata": {},
   "outputs": [],
   "source": [
    "X_train.drop(columns=['car_model_mean'], inplace=True)\n",
    "car_model_mean = X_test['car_model_mean']\n",
    "X_test.drop(columns=['car_model_mean'], inplace=True)"
   ]
  },
  {
   "cell_type": "markdown",
   "metadata": {},
   "source": [
    "Use xgboost model to appraise the value"
   ]
  },
  {
   "cell_type": "code",
   "execution_count": 160,
   "metadata": {},
   "outputs": [
    {
     "name": "stdout",
     "output_type": "stream",
     "text": [
      "Fitting 3 folds for each of 81 candidates, totalling 243 fits\n"
     ]
    },
    {
     "data": {
      "text/html": [
       "<style>#sk-container-id-16 {color: black;}#sk-container-id-16 pre{padding: 0;}#sk-container-id-16 div.sk-toggleable {background-color: white;}#sk-container-id-16 label.sk-toggleable__label {cursor: pointer;display: block;width: 100%;margin-bottom: 0;padding: 0.3em;box-sizing: border-box;text-align: center;}#sk-container-id-16 label.sk-toggleable__label-arrow:before {content: \"▸\";float: left;margin-right: 0.25em;color: #696969;}#sk-container-id-16 label.sk-toggleable__label-arrow:hover:before {color: black;}#sk-container-id-16 div.sk-estimator:hover label.sk-toggleable__label-arrow:before {color: black;}#sk-container-id-16 div.sk-toggleable__content {max-height: 0;max-width: 0;overflow: hidden;text-align: left;background-color: #f0f8ff;}#sk-container-id-16 div.sk-toggleable__content pre {margin: 0.2em;color: black;border-radius: 0.25em;background-color: #f0f8ff;}#sk-container-id-16 input.sk-toggleable__control:checked~div.sk-toggleable__content {max-height: 200px;max-width: 100%;overflow: auto;}#sk-container-id-16 input.sk-toggleable__control:checked~label.sk-toggleable__label-arrow:before {content: \"▾\";}#sk-container-id-16 div.sk-estimator input.sk-toggleable__control:checked~label.sk-toggleable__label {background-color: #d4ebff;}#sk-container-id-16 div.sk-label input.sk-toggleable__control:checked~label.sk-toggleable__label {background-color: #d4ebff;}#sk-container-id-16 input.sk-hidden--visually {border: 0;clip: rect(1px 1px 1px 1px);clip: rect(1px, 1px, 1px, 1px);height: 1px;margin: -1px;overflow: hidden;padding: 0;position: absolute;width: 1px;}#sk-container-id-16 div.sk-estimator {font-family: monospace;background-color: #f0f8ff;border: 1px dotted black;border-radius: 0.25em;box-sizing: border-box;margin-bottom: 0.5em;}#sk-container-id-16 div.sk-estimator:hover {background-color: #d4ebff;}#sk-container-id-16 div.sk-parallel-item::after {content: \"\";width: 100%;border-bottom: 1px solid gray;flex-grow: 1;}#sk-container-id-16 div.sk-label:hover label.sk-toggleable__label {background-color: #d4ebff;}#sk-container-id-16 div.sk-serial::before {content: \"\";position: absolute;border-left: 1px solid gray;box-sizing: border-box;top: 0;bottom: 0;left: 50%;z-index: 0;}#sk-container-id-16 div.sk-serial {display: flex;flex-direction: column;align-items: center;background-color: white;padding-right: 0.2em;padding-left: 0.2em;position: relative;}#sk-container-id-16 div.sk-item {position: relative;z-index: 1;}#sk-container-id-16 div.sk-parallel {display: flex;align-items: stretch;justify-content: center;background-color: white;position: relative;}#sk-container-id-16 div.sk-item::before, #sk-container-id-16 div.sk-parallel-item::before {content: \"\";position: absolute;border-left: 1px solid gray;box-sizing: border-box;top: 0;bottom: 0;left: 50%;z-index: -1;}#sk-container-id-16 div.sk-parallel-item {display: flex;flex-direction: column;z-index: 1;position: relative;background-color: white;}#sk-container-id-16 div.sk-parallel-item:first-child::after {align-self: flex-end;width: 50%;}#sk-container-id-16 div.sk-parallel-item:last-child::after {align-self: flex-start;width: 50%;}#sk-container-id-16 div.sk-parallel-item:only-child::after {width: 0;}#sk-container-id-16 div.sk-dashed-wrapped {border: 1px dashed gray;margin: 0 0.4em 0.5em 0.4em;box-sizing: border-box;padding-bottom: 0.4em;background-color: white;}#sk-container-id-16 div.sk-label label {font-family: monospace;font-weight: bold;display: inline-block;line-height: 1.2em;}#sk-container-id-16 div.sk-label-container {text-align: center;}#sk-container-id-16 div.sk-container {/* jupyter's `normalize.less` sets `[hidden] { display: none; }` but bootstrap.min.css set `[hidden] { display: none !important; }` so we also need the `!important` here to be able to override the default hidden behavior on the sphinx rendered scikit-learn.org. See: https://github.com/scikit-learn/scikit-learn/issues/21755 */display: inline-block !important;position: relative;}#sk-container-id-16 div.sk-text-repr-fallback {display: none;}</style><div id=\"sk-container-id-16\" class=\"sk-top-container\"><div class=\"sk-text-repr-fallback\"><pre>GridSearchCV(cv=3,\n",
       "             estimator=XGBRegressor(base_score=None, booster=None,\n",
       "                                    callbacks=None, colsample_bylevel=None,\n",
       "                                    colsample_bynode=None,\n",
       "                                    colsample_bytree=None, device=&#x27;cuda&#x27;,\n",
       "                                    early_stopping_rounds=None,\n",
       "                                    enable_categorical=False, eta=0.05,\n",
       "                                    eval_metric=&#x27;mape&#x27;, feature_types=None,\n",
       "                                    gamma=None, grow_policy=None,\n",
       "                                    importance_type=None,\n",
       "                                    interaction_constraints=None,\n",
       "                                    learnin...\n",
       "                                    max_cat_threshold=None,\n",
       "                                    max_cat_to_onehot=None, max_delta_step=None,\n",
       "                                    max_depth=None, max_leaves=None,\n",
       "                                    min_child_weight=None, missing=nan,\n",
       "                                    monotone_constraints=None,\n",
       "                                    multi_strategy=None, n_estimators=200,\n",
       "                                    n_jobs=-1, num_parallel_tree=None, ...),\n",
       "             n_jobs=-1,\n",
       "             param_grid={&#x27;colsample_bytree&#x27;: [0.6, 0.8, 1.0],\n",
       "                         &#x27;gamma&#x27;: [0.5, 1, 2], &#x27;max_depth&#x27;: [10, 30, 100],\n",
       "                         &#x27;subsample&#x27;: [0.6, 0.8, 1.0]},\n",
       "             verbose=10)</pre><b>In a Jupyter environment, please rerun this cell to show the HTML representation or trust the notebook. <br />On GitHub, the HTML representation is unable to render, please try loading this page with nbviewer.org.</b></div><div class=\"sk-container\" hidden><div class=\"sk-item sk-dashed-wrapped\"><div class=\"sk-label-container\"><div class=\"sk-label sk-toggleable\"><input class=\"sk-toggleable__control sk-hidden--visually\" id=\"sk-estimator-id-26\" type=\"checkbox\" ><label for=\"sk-estimator-id-26\" class=\"sk-toggleable__label sk-toggleable__label-arrow\">GridSearchCV</label><div class=\"sk-toggleable__content\"><pre>GridSearchCV(cv=3,\n",
       "             estimator=XGBRegressor(base_score=None, booster=None,\n",
       "                                    callbacks=None, colsample_bylevel=None,\n",
       "                                    colsample_bynode=None,\n",
       "                                    colsample_bytree=None, device=&#x27;cuda&#x27;,\n",
       "                                    early_stopping_rounds=None,\n",
       "                                    enable_categorical=False, eta=0.05,\n",
       "                                    eval_metric=&#x27;mape&#x27;, feature_types=None,\n",
       "                                    gamma=None, grow_policy=None,\n",
       "                                    importance_type=None,\n",
       "                                    interaction_constraints=None,\n",
       "                                    learnin...\n",
       "                                    max_cat_threshold=None,\n",
       "                                    max_cat_to_onehot=None, max_delta_step=None,\n",
       "                                    max_depth=None, max_leaves=None,\n",
       "                                    min_child_weight=None, missing=nan,\n",
       "                                    monotone_constraints=None,\n",
       "                                    multi_strategy=None, n_estimators=200,\n",
       "                                    n_jobs=-1, num_parallel_tree=None, ...),\n",
       "             n_jobs=-1,\n",
       "             param_grid={&#x27;colsample_bytree&#x27;: [0.6, 0.8, 1.0],\n",
       "                         &#x27;gamma&#x27;: [0.5, 1, 2], &#x27;max_depth&#x27;: [10, 30, 100],\n",
       "                         &#x27;subsample&#x27;: [0.6, 0.8, 1.0]},\n",
       "             verbose=10)</pre></div></div></div><div class=\"sk-parallel\"><div class=\"sk-parallel-item\"><div class=\"sk-item\"><div class=\"sk-label-container\"><div class=\"sk-label sk-toggleable\"><input class=\"sk-toggleable__control sk-hidden--visually\" id=\"sk-estimator-id-27\" type=\"checkbox\" ><label for=\"sk-estimator-id-27\" class=\"sk-toggleable__label sk-toggleable__label-arrow\">estimator: XGBRegressor</label><div class=\"sk-toggleable__content\"><pre>XGBRegressor(base_score=None, booster=None, callbacks=None,\n",
       "             colsample_bylevel=None, colsample_bynode=None,\n",
       "             colsample_bytree=None, device=&#x27;cuda&#x27;, early_stopping_rounds=None,\n",
       "             enable_categorical=False, eta=0.05, eval_metric=&#x27;mape&#x27;,\n",
       "             feature_types=None, gamma=None, grow_policy=None,\n",
       "             importance_type=None, interaction_constraints=None,\n",
       "             learning_rate=None, max_bin=None, max_cat_threshold=None,\n",
       "             max_cat_to_onehot=None, max_delta_step=None, max_depth=None,\n",
       "             max_leaves=None, min_child_weight=None, missing=nan,\n",
       "             monotone_constraints=None, multi_strategy=None, n_estimators=200,\n",
       "             n_jobs=-1, num_parallel_tree=None, ...)</pre></div></div></div><div class=\"sk-serial\"><div class=\"sk-item\"><div class=\"sk-estimator sk-toggleable\"><input class=\"sk-toggleable__control sk-hidden--visually\" id=\"sk-estimator-id-28\" type=\"checkbox\" ><label for=\"sk-estimator-id-28\" class=\"sk-toggleable__label sk-toggleable__label-arrow\">XGBRegressor</label><div class=\"sk-toggleable__content\"><pre>XGBRegressor(base_score=None, booster=None, callbacks=None,\n",
       "             colsample_bylevel=None, colsample_bynode=None,\n",
       "             colsample_bytree=None, device=&#x27;cuda&#x27;, early_stopping_rounds=None,\n",
       "             enable_categorical=False, eta=0.05, eval_metric=&#x27;mape&#x27;,\n",
       "             feature_types=None, gamma=None, grow_policy=None,\n",
       "             importance_type=None, interaction_constraints=None,\n",
       "             learning_rate=None, max_bin=None, max_cat_threshold=None,\n",
       "             max_cat_to_onehot=None, max_delta_step=None, max_depth=None,\n",
       "             max_leaves=None, min_child_weight=None, missing=nan,\n",
       "             monotone_constraints=None, multi_strategy=None, n_estimators=200,\n",
       "             n_jobs=-1, num_parallel_tree=None, ...)</pre></div></div></div></div></div></div></div></div></div></div>"
      ],
      "text/plain": [
       "GridSearchCV(cv=3,\n",
       "             estimator=XGBRegressor(base_score=None, booster=None,\n",
       "                                    callbacks=None, colsample_bylevel=None,\n",
       "                                    colsample_bynode=None,\n",
       "                                    colsample_bytree=None, device='cuda',\n",
       "                                    early_stopping_rounds=None,\n",
       "                                    enable_categorical=False, eta=0.05,\n",
       "                                    eval_metric='mape', feature_types=None,\n",
       "                                    gamma=None, grow_policy=None,\n",
       "                                    importance_type=None,\n",
       "                                    interaction_constraints=None,\n",
       "                                    learnin...\n",
       "                                    max_cat_threshold=None,\n",
       "                                    max_cat_to_onehot=None, max_delta_step=None,\n",
       "                                    max_depth=None, max_leaves=None,\n",
       "                                    min_child_weight=None, missing=nan,\n",
       "                                    monotone_constraints=None,\n",
       "                                    multi_strategy=None, n_estimators=200,\n",
       "                                    n_jobs=-1, num_parallel_tree=None, ...),\n",
       "             n_jobs=-1,\n",
       "             param_grid={'colsample_bytree': [0.6, 0.8, 1.0],\n",
       "                         'gamma': [0.5, 1, 2], 'max_depth': [10, 30, 100],\n",
       "                         'subsample': [0.6, 0.8, 1.0]},\n",
       "             verbose=10)"
      ]
     },
     "execution_count": 160,
     "metadata": {},
     "output_type": "execute_result"
    }
   ],
   "source": [
    "xgb_r = xg.XGBRegressor(objective='reg:squarederror', n_estimators=200, eta=0.05, seed=1234, tree_method=\"hist\", device=\"cuda\", n_jobs=-1, eval_metric=\"mape\")\n",
    "\n",
    "params = {\n",
    "    'max_depth': [10, 30, 100],\n",
    "    'gamma': [0.5, 1, 2],\n",
    "    'subsample': [0.6, 0.8, 1.0],\n",
    "    'colsample_bytree': [0.6, 0.8, 1.0],\n",
    "}\n",
    "\n",
    "gs = GridSearchCV(\n",
    "    estimator = xgb_r,\n",
    "    param_grid = params,\n",
    "    verbose=10,\n",
    "    cv=3,\n",
    "    n_jobs=-1\n",
    ")\n",
    "\n",
    "gs.fit(X_train.to_numpy(), y_train.to_numpy())"
   ]
  },
  {
   "cell_type": "code",
   "execution_count": 161,
   "metadata": {},
   "outputs": [
    {
     "data": {
      "text/html": [
       "<style>#sk-container-id-17 {color: black;}#sk-container-id-17 pre{padding: 0;}#sk-container-id-17 div.sk-toggleable {background-color: white;}#sk-container-id-17 label.sk-toggleable__label {cursor: pointer;display: block;width: 100%;margin-bottom: 0;padding: 0.3em;box-sizing: border-box;text-align: center;}#sk-container-id-17 label.sk-toggleable__label-arrow:before {content: \"▸\";float: left;margin-right: 0.25em;color: #696969;}#sk-container-id-17 label.sk-toggleable__label-arrow:hover:before {color: black;}#sk-container-id-17 div.sk-estimator:hover label.sk-toggleable__label-arrow:before {color: black;}#sk-container-id-17 div.sk-toggleable__content {max-height: 0;max-width: 0;overflow: hidden;text-align: left;background-color: #f0f8ff;}#sk-container-id-17 div.sk-toggleable__content pre {margin: 0.2em;color: black;border-radius: 0.25em;background-color: #f0f8ff;}#sk-container-id-17 input.sk-toggleable__control:checked~div.sk-toggleable__content {max-height: 200px;max-width: 100%;overflow: auto;}#sk-container-id-17 input.sk-toggleable__control:checked~label.sk-toggleable__label-arrow:before {content: \"▾\";}#sk-container-id-17 div.sk-estimator input.sk-toggleable__control:checked~label.sk-toggleable__label {background-color: #d4ebff;}#sk-container-id-17 div.sk-label input.sk-toggleable__control:checked~label.sk-toggleable__label {background-color: #d4ebff;}#sk-container-id-17 input.sk-hidden--visually {border: 0;clip: rect(1px 1px 1px 1px);clip: rect(1px, 1px, 1px, 1px);height: 1px;margin: -1px;overflow: hidden;padding: 0;position: absolute;width: 1px;}#sk-container-id-17 div.sk-estimator {font-family: monospace;background-color: #f0f8ff;border: 1px dotted black;border-radius: 0.25em;box-sizing: border-box;margin-bottom: 0.5em;}#sk-container-id-17 div.sk-estimator:hover {background-color: #d4ebff;}#sk-container-id-17 div.sk-parallel-item::after {content: \"\";width: 100%;border-bottom: 1px solid gray;flex-grow: 1;}#sk-container-id-17 div.sk-label:hover label.sk-toggleable__label {background-color: #d4ebff;}#sk-container-id-17 div.sk-serial::before {content: \"\";position: absolute;border-left: 1px solid gray;box-sizing: border-box;top: 0;bottom: 0;left: 50%;z-index: 0;}#sk-container-id-17 div.sk-serial {display: flex;flex-direction: column;align-items: center;background-color: white;padding-right: 0.2em;padding-left: 0.2em;position: relative;}#sk-container-id-17 div.sk-item {position: relative;z-index: 1;}#sk-container-id-17 div.sk-parallel {display: flex;align-items: stretch;justify-content: center;background-color: white;position: relative;}#sk-container-id-17 div.sk-item::before, #sk-container-id-17 div.sk-parallel-item::before {content: \"\";position: absolute;border-left: 1px solid gray;box-sizing: border-box;top: 0;bottom: 0;left: 50%;z-index: -1;}#sk-container-id-17 div.sk-parallel-item {display: flex;flex-direction: column;z-index: 1;position: relative;background-color: white;}#sk-container-id-17 div.sk-parallel-item:first-child::after {align-self: flex-end;width: 50%;}#sk-container-id-17 div.sk-parallel-item:last-child::after {align-self: flex-start;width: 50%;}#sk-container-id-17 div.sk-parallel-item:only-child::after {width: 0;}#sk-container-id-17 div.sk-dashed-wrapped {border: 1px dashed gray;margin: 0 0.4em 0.5em 0.4em;box-sizing: border-box;padding-bottom: 0.4em;background-color: white;}#sk-container-id-17 div.sk-label label {font-family: monospace;font-weight: bold;display: inline-block;line-height: 1.2em;}#sk-container-id-17 div.sk-label-container {text-align: center;}#sk-container-id-17 div.sk-container {/* jupyter's `normalize.less` sets `[hidden] { display: none; }` but bootstrap.min.css set `[hidden] { display: none !important; }` so we also need the `!important` here to be able to override the default hidden behavior on the sphinx rendered scikit-learn.org. See: https://github.com/scikit-learn/scikit-learn/issues/21755 */display: inline-block !important;position: relative;}#sk-container-id-17 div.sk-text-repr-fallback {display: none;}</style><div id=\"sk-container-id-17\" class=\"sk-top-container\"><div class=\"sk-text-repr-fallback\"><pre>XGBRegressor(base_score=None, booster=None, callbacks=None,\n",
       "             colsample_bylevel=None, colsample_bynode=None,\n",
       "             colsample_bytree=0.6, device=&#x27;cuda&#x27;, early_stopping_rounds=None,\n",
       "             enable_categorical=False, eta=0.05, eval_metric=&#x27;mape&#x27;,\n",
       "             feature_types=None, gamma=0.5, grow_policy=None,\n",
       "             importance_type=None, interaction_constraints=None,\n",
       "             learning_rate=None, max_bin=None, max_cat_threshold=None,\n",
       "             max_cat_to_onehot=None, max_delta_step=None, max_depth=10,\n",
       "             max_leaves=None, min_child_weight=None, missing=nan,\n",
       "             monotone_constraints=None, multi_strategy=None, n_estimators=200,\n",
       "             n_jobs=-1, num_parallel_tree=None, ...)</pre><b>In a Jupyter environment, please rerun this cell to show the HTML representation or trust the notebook. <br />On GitHub, the HTML representation is unable to render, please try loading this page with nbviewer.org.</b></div><div class=\"sk-container\" hidden><div class=\"sk-item\"><div class=\"sk-estimator sk-toggleable\"><input class=\"sk-toggleable__control sk-hidden--visually\" id=\"sk-estimator-id-29\" type=\"checkbox\" checked><label for=\"sk-estimator-id-29\" class=\"sk-toggleable__label sk-toggleable__label-arrow\">XGBRegressor</label><div class=\"sk-toggleable__content\"><pre>XGBRegressor(base_score=None, booster=None, callbacks=None,\n",
       "             colsample_bylevel=None, colsample_bynode=None,\n",
       "             colsample_bytree=0.6, device=&#x27;cuda&#x27;, early_stopping_rounds=None,\n",
       "             enable_categorical=False, eta=0.05, eval_metric=&#x27;mape&#x27;,\n",
       "             feature_types=None, gamma=0.5, grow_policy=None,\n",
       "             importance_type=None, interaction_constraints=None,\n",
       "             learning_rate=None, max_bin=None, max_cat_threshold=None,\n",
       "             max_cat_to_onehot=None, max_delta_step=None, max_depth=10,\n",
       "             max_leaves=None, min_child_weight=None, missing=nan,\n",
       "             monotone_constraints=None, multi_strategy=None, n_estimators=200,\n",
       "             n_jobs=-1, num_parallel_tree=None, ...)</pre></div></div></div></div></div>"
      ],
      "text/plain": [
       "XGBRegressor(base_score=None, booster=None, callbacks=None,\n",
       "             colsample_bylevel=None, colsample_bynode=None,\n",
       "             colsample_bytree=0.6, device='cuda', early_stopping_rounds=None,\n",
       "             enable_categorical=False, eta=0.05, eval_metric='mape',\n",
       "             feature_types=None, gamma=0.5, grow_policy=None,\n",
       "             importance_type=None, interaction_constraints=None,\n",
       "             learning_rate=None, max_bin=None, max_cat_threshold=None,\n",
       "             max_cat_to_onehot=None, max_delta_step=None, max_depth=10,\n",
       "             max_leaves=None, min_child_weight=None, missing=nan,\n",
       "             monotone_constraints=None, multi_strategy=None, n_estimators=200,\n",
       "             n_jobs=-1, num_parallel_tree=None, ...)"
      ]
     },
     "execution_count": 161,
     "metadata": {},
     "output_type": "execute_result"
    }
   ],
   "source": [
    "model = gs.best_estimator_\n",
    "gs.best_estimator_"
   ]
  },
  {
   "cell_type": "code",
   "execution_count": 162,
   "metadata": {},
   "outputs": [],
   "source": [
    "pred = model.predict(X_test)"
   ]
  },
  {
   "cell_type": "markdown",
   "metadata": {},
   "source": [
    "### Evaluate model"
   ]
  },
  {
   "cell_type": "code",
   "execution_count": 163,
   "metadata": {},
   "outputs": [],
   "source": [
    "result_cols = ['model', 'mae', 'mse', 'rmse', 'mape', 'r2']\n",
    "result_df = pd.DataFrame(columns=result_cols)"
   ]
  },
  {
   "cell_type": "markdown",
   "metadata": {},
   "source": [
    "standard deviation of car price"
   ]
  },
  {
   "cell_type": "code",
   "execution_count": 164,
   "metadata": {},
   "outputs": [
    {
     "name": "stdout",
     "output_type": "stream",
     "text": [
      "185489.10530089893\n"
     ]
    }
   ],
   "source": [
    "sd = statistics.stdev(y_test)\n",
    "print(sd)"
   ]
  },
  {
   "cell_type": "markdown",
   "metadata": {},
   "source": [
    "#### Mean price of each car model"
   ]
  },
  {
   "cell_type": "code",
   "execution_count": 165,
   "metadata": {},
   "outputs": [],
   "source": [
    "mae = MAE(y_test, car_model_mean)\n",
    "mse = MSE(y_test, car_model_mean, squared=True)\n",
    "rmse = MSE(y_test, car_model_mean, squared=False)\n",
    "mape = MAPE(y_test, car_model_mean)\n",
    "r2 = r2_score(y_test, car_model_mean)\n",
    "\n",
    "result = {'model':'mean price', 'mae':mae, 'mse':mse, 'rmse':rmse, 'mape':mape, 'r2':r2}\n",
    "result_df = pd.concat([result_df, pd.DataFrame([result])], ignore_index=True)"
   ]
  },
  {
   "cell_type": "markdown",
   "metadata": {},
   "source": [
    "#### XGBoost"
   ]
  },
  {
   "cell_type": "code",
   "execution_count": 166,
   "metadata": {},
   "outputs": [],
   "source": [
    "mae = MAE(y_test, pred)\n",
    "mse = MSE(y_test, pred, squared=True)\n",
    "rmse = MSE(y_test, pred, squared=False)\n",
    "mape = MAPE(y_test, pred)\n",
    "r2 = r2_score(y_test, pred)\n",
    "\n",
    "result = {'model':'xgboost', 'mae':mae, 'mse':mse, 'rmse':rmse, 'mape':mape, 'r2':r2}\n",
    "result_df = pd.concat([result_df, pd.DataFrame([result])], ignore_index=True)"
   ]
  },
  {
   "cell_type": "markdown",
   "metadata": {},
   "source": [
    "### Other model"
   ]
  },
  {
   "cell_type": "markdown",
   "metadata": {},
   "source": [
    "#### Decision tree"
   ]
  },
  {
   "cell_type": "code",
   "execution_count": 168,
   "metadata": {},
   "outputs": [
    {
     "name": "stdout",
     "output_type": "stream",
     "text": [
      "Fitting 5 folds for each of 9 candidates, totalling 45 fits\n"
     ]
    },
    {
     "data": {
      "text/html": [
       "<style>#sk-container-id-18 {color: black;}#sk-container-id-18 pre{padding: 0;}#sk-container-id-18 div.sk-toggleable {background-color: white;}#sk-container-id-18 label.sk-toggleable__label {cursor: pointer;display: block;width: 100%;margin-bottom: 0;padding: 0.3em;box-sizing: border-box;text-align: center;}#sk-container-id-18 label.sk-toggleable__label-arrow:before {content: \"▸\";float: left;margin-right: 0.25em;color: #696969;}#sk-container-id-18 label.sk-toggleable__label-arrow:hover:before {color: black;}#sk-container-id-18 div.sk-estimator:hover label.sk-toggleable__label-arrow:before {color: black;}#sk-container-id-18 div.sk-toggleable__content {max-height: 0;max-width: 0;overflow: hidden;text-align: left;background-color: #f0f8ff;}#sk-container-id-18 div.sk-toggleable__content pre {margin: 0.2em;color: black;border-radius: 0.25em;background-color: #f0f8ff;}#sk-container-id-18 input.sk-toggleable__control:checked~div.sk-toggleable__content {max-height: 200px;max-width: 100%;overflow: auto;}#sk-container-id-18 input.sk-toggleable__control:checked~label.sk-toggleable__label-arrow:before {content: \"▾\";}#sk-container-id-18 div.sk-estimator input.sk-toggleable__control:checked~label.sk-toggleable__label {background-color: #d4ebff;}#sk-container-id-18 div.sk-label input.sk-toggleable__control:checked~label.sk-toggleable__label {background-color: #d4ebff;}#sk-container-id-18 input.sk-hidden--visually {border: 0;clip: rect(1px 1px 1px 1px);clip: rect(1px, 1px, 1px, 1px);height: 1px;margin: -1px;overflow: hidden;padding: 0;position: absolute;width: 1px;}#sk-container-id-18 div.sk-estimator {font-family: monospace;background-color: #f0f8ff;border: 1px dotted black;border-radius: 0.25em;box-sizing: border-box;margin-bottom: 0.5em;}#sk-container-id-18 div.sk-estimator:hover {background-color: #d4ebff;}#sk-container-id-18 div.sk-parallel-item::after {content: \"\";width: 100%;border-bottom: 1px solid gray;flex-grow: 1;}#sk-container-id-18 div.sk-label:hover label.sk-toggleable__label {background-color: #d4ebff;}#sk-container-id-18 div.sk-serial::before {content: \"\";position: absolute;border-left: 1px solid gray;box-sizing: border-box;top: 0;bottom: 0;left: 50%;z-index: 0;}#sk-container-id-18 div.sk-serial {display: flex;flex-direction: column;align-items: center;background-color: white;padding-right: 0.2em;padding-left: 0.2em;position: relative;}#sk-container-id-18 div.sk-item {position: relative;z-index: 1;}#sk-container-id-18 div.sk-parallel {display: flex;align-items: stretch;justify-content: center;background-color: white;position: relative;}#sk-container-id-18 div.sk-item::before, #sk-container-id-18 div.sk-parallel-item::before {content: \"\";position: absolute;border-left: 1px solid gray;box-sizing: border-box;top: 0;bottom: 0;left: 50%;z-index: -1;}#sk-container-id-18 div.sk-parallel-item {display: flex;flex-direction: column;z-index: 1;position: relative;background-color: white;}#sk-container-id-18 div.sk-parallel-item:first-child::after {align-self: flex-end;width: 50%;}#sk-container-id-18 div.sk-parallel-item:last-child::after {align-self: flex-start;width: 50%;}#sk-container-id-18 div.sk-parallel-item:only-child::after {width: 0;}#sk-container-id-18 div.sk-dashed-wrapped {border: 1px dashed gray;margin: 0 0.4em 0.5em 0.4em;box-sizing: border-box;padding-bottom: 0.4em;background-color: white;}#sk-container-id-18 div.sk-label label {font-family: monospace;font-weight: bold;display: inline-block;line-height: 1.2em;}#sk-container-id-18 div.sk-label-container {text-align: center;}#sk-container-id-18 div.sk-container {/* jupyter's `normalize.less` sets `[hidden] { display: none; }` but bootstrap.min.css set `[hidden] { display: none !important; }` so we also need the `!important` here to be able to override the default hidden behavior on the sphinx rendered scikit-learn.org. See: https://github.com/scikit-learn/scikit-learn/issues/21755 */display: inline-block !important;position: relative;}#sk-container-id-18 div.sk-text-repr-fallback {display: none;}</style><div id=\"sk-container-id-18\" class=\"sk-top-container\"><div class=\"sk-text-repr-fallback\"><pre>DecisionTreeRegressor(max_depth=10, min_samples_split=20, random_state=42)</pre><b>In a Jupyter environment, please rerun this cell to show the HTML representation or trust the notebook. <br />On GitHub, the HTML representation is unable to render, please try loading this page with nbviewer.org.</b></div><div class=\"sk-container\" hidden><div class=\"sk-item\"><div class=\"sk-estimator sk-toggleable\"><input class=\"sk-toggleable__control sk-hidden--visually\" id=\"sk-estimator-id-30\" type=\"checkbox\" checked><label for=\"sk-estimator-id-30\" class=\"sk-toggleable__label sk-toggleable__label-arrow\">DecisionTreeRegressor</label><div class=\"sk-toggleable__content\"><pre>DecisionTreeRegressor(max_depth=10, min_samples_split=20, random_state=42)</pre></div></div></div></div></div>"
      ],
      "text/plain": [
       "DecisionTreeRegressor(max_depth=10, min_samples_split=20, random_state=42)"
      ]
     },
     "execution_count": 168,
     "metadata": {},
     "output_type": "execute_result"
    }
   ],
   "source": [
    "from sklearn.tree import DecisionTreeRegressor\n",
    "\n",
    "clf = DecisionTreeRegressor(criterion = 'squared_error', random_state=42)\n",
    "\n",
    "params = {\n",
    "    'max_depth': [5, 10, None],\n",
    "    'min_samples_split': [2, 10, 20],\n",
    "}\n",
    "\n",
    "gs = GridSearchCV(\n",
    "    estimator = clf,\n",
    "    param_grid = params,\n",
    "    n_jobs=-1,\n",
    "    verbose=10\n",
    ")\n",
    "gs.fit(X_train, y_train)\n",
    "\n",
    "model = gs.best_estimator_\n",
    "gs.best_estimator_"
   ]
  },
  {
   "cell_type": "code",
   "execution_count": 169,
   "metadata": {},
   "outputs": [],
   "source": [
    "pred = model.predict(X_test)"
   ]
  },
  {
   "cell_type": "code",
   "execution_count": 170,
   "metadata": {},
   "outputs": [],
   "source": [
    "mae = MAE(y_test, pred)\n",
    "mse = MSE(y_test, pred, squared=True)\n",
    "rmse = MSE(y_test, pred, squared=False)\n",
    "mape = MAPE(y_test, pred)\n",
    "r2 = r2_score(y_test, pred)\n",
    "\n",
    "result = {'model':'decision tree', 'mae':mae, 'mse':mse, 'rmse':rmse, 'mape':mape, 'r2':r2}\n",
    "result_df = pd.concat([result_df, pd.DataFrame([result])], ignore_index=True)"
   ]
  },
  {
   "cell_type": "markdown",
   "metadata": {},
   "source": [
    "#### Random Forest"
   ]
  },
  {
   "cell_type": "code",
   "execution_count": 175,
   "metadata": {},
   "outputs": [
    {
     "data": {
      "text/html": [
       "<style>#sk-container-id-20 {color: black;}#sk-container-id-20 pre{padding: 0;}#sk-container-id-20 div.sk-toggleable {background-color: white;}#sk-container-id-20 label.sk-toggleable__label {cursor: pointer;display: block;width: 100%;margin-bottom: 0;padding: 0.3em;box-sizing: border-box;text-align: center;}#sk-container-id-20 label.sk-toggleable__label-arrow:before {content: \"▸\";float: left;margin-right: 0.25em;color: #696969;}#sk-container-id-20 label.sk-toggleable__label-arrow:hover:before {color: black;}#sk-container-id-20 div.sk-estimator:hover label.sk-toggleable__label-arrow:before {color: black;}#sk-container-id-20 div.sk-toggleable__content {max-height: 0;max-width: 0;overflow: hidden;text-align: left;background-color: #f0f8ff;}#sk-container-id-20 div.sk-toggleable__content pre {margin: 0.2em;color: black;border-radius: 0.25em;background-color: #f0f8ff;}#sk-container-id-20 input.sk-toggleable__control:checked~div.sk-toggleable__content {max-height: 200px;max-width: 100%;overflow: auto;}#sk-container-id-20 input.sk-toggleable__control:checked~label.sk-toggleable__label-arrow:before {content: \"▾\";}#sk-container-id-20 div.sk-estimator input.sk-toggleable__control:checked~label.sk-toggleable__label {background-color: #d4ebff;}#sk-container-id-20 div.sk-label input.sk-toggleable__control:checked~label.sk-toggleable__label {background-color: #d4ebff;}#sk-container-id-20 input.sk-hidden--visually {border: 0;clip: rect(1px 1px 1px 1px);clip: rect(1px, 1px, 1px, 1px);height: 1px;margin: -1px;overflow: hidden;padding: 0;position: absolute;width: 1px;}#sk-container-id-20 div.sk-estimator {font-family: monospace;background-color: #f0f8ff;border: 1px dotted black;border-radius: 0.25em;box-sizing: border-box;margin-bottom: 0.5em;}#sk-container-id-20 div.sk-estimator:hover {background-color: #d4ebff;}#sk-container-id-20 div.sk-parallel-item::after {content: \"\";width: 100%;border-bottom: 1px solid gray;flex-grow: 1;}#sk-container-id-20 div.sk-label:hover label.sk-toggleable__label {background-color: #d4ebff;}#sk-container-id-20 div.sk-serial::before {content: \"\";position: absolute;border-left: 1px solid gray;box-sizing: border-box;top: 0;bottom: 0;left: 50%;z-index: 0;}#sk-container-id-20 div.sk-serial {display: flex;flex-direction: column;align-items: center;background-color: white;padding-right: 0.2em;padding-left: 0.2em;position: relative;}#sk-container-id-20 div.sk-item {position: relative;z-index: 1;}#sk-container-id-20 div.sk-parallel {display: flex;align-items: stretch;justify-content: center;background-color: white;position: relative;}#sk-container-id-20 div.sk-item::before, #sk-container-id-20 div.sk-parallel-item::before {content: \"\";position: absolute;border-left: 1px solid gray;box-sizing: border-box;top: 0;bottom: 0;left: 50%;z-index: -1;}#sk-container-id-20 div.sk-parallel-item {display: flex;flex-direction: column;z-index: 1;position: relative;background-color: white;}#sk-container-id-20 div.sk-parallel-item:first-child::after {align-self: flex-end;width: 50%;}#sk-container-id-20 div.sk-parallel-item:last-child::after {align-self: flex-start;width: 50%;}#sk-container-id-20 div.sk-parallel-item:only-child::after {width: 0;}#sk-container-id-20 div.sk-dashed-wrapped {border: 1px dashed gray;margin: 0 0.4em 0.5em 0.4em;box-sizing: border-box;padding-bottom: 0.4em;background-color: white;}#sk-container-id-20 div.sk-label label {font-family: monospace;font-weight: bold;display: inline-block;line-height: 1.2em;}#sk-container-id-20 div.sk-label-container {text-align: center;}#sk-container-id-20 div.sk-container {/* jupyter's `normalize.less` sets `[hidden] { display: none; }` but bootstrap.min.css set `[hidden] { display: none !important; }` so we also need the `!important` here to be able to override the default hidden behavior on the sphinx rendered scikit-learn.org. See: https://github.com/scikit-learn/scikit-learn/issues/21755 */display: inline-block !important;position: relative;}#sk-container-id-20 div.sk-text-repr-fallback {display: none;}</style><div id=\"sk-container-id-20\" class=\"sk-top-container\"><div class=\"sk-text-repr-fallback\"><pre>RandomForestRegressor(max_features=30, min_samples_split=10, n_estimators=300,\n",
       "                      random_state=42)</pre><b>In a Jupyter environment, please rerun this cell to show the HTML representation or trust the notebook. <br />On GitHub, the HTML representation is unable to render, please try loading this page with nbviewer.org.</b></div><div class=\"sk-container\" hidden><div class=\"sk-item\"><div class=\"sk-estimator sk-toggleable\"><input class=\"sk-toggleable__control sk-hidden--visually\" id=\"sk-estimator-id-34\" type=\"checkbox\" checked><label for=\"sk-estimator-id-34\" class=\"sk-toggleable__label sk-toggleable__label-arrow\">RandomForestRegressor</label><div class=\"sk-toggleable__content\"><pre>RandomForestRegressor(max_features=30, min_samples_split=10, n_estimators=300,\n",
       "                      random_state=42)</pre></div></div></div></div></div>"
      ],
      "text/plain": [
       "RandomForestRegressor(max_features=30, min_samples_split=10, n_estimators=300,\n",
       "                      random_state=42)"
      ]
     },
     "execution_count": 175,
     "metadata": {},
     "output_type": "execute_result"
    }
   ],
   "source": [
    "from sklearn.ensemble import RandomForestRegressor\n",
    "\n",
    "clf = RandomForestRegressor(criterion = 'squared_error', random_state=42)\n",
    "\n",
    "params = {\n",
    "    'max_depth': [5, 10]+[None],\n",
    "    'min_samples_split': [2, 10, 50],\n",
    "    'n_estimators': [100, 200, 300],\n",
    "    'max_features': [10, 30, 50, 100, 152],\n",
    "}\n",
    "\n",
    "gs = GridSearchCV(\n",
    "    estimator = clf,\n",
    "    param_grid = params,\n",
    "    verbose=10\n",
    ")\n",
    "\n",
    "gs.fit(X_train, y_train)\n",
    "\n",
    "model = gs.best_estimator_\n",
    "gs.best_estimator_"
   ]
  },
  {
   "cell_type": "code",
   "execution_count": null,
   "metadata": {},
   "outputs": [],
   "source": [
    "pred = model.predict(X_test)"
   ]
  },
  {
   "cell_type": "code",
   "execution_count": 178,
   "metadata": {},
   "outputs": [],
   "source": [
    "mae = MAE(y_test, pred)\n",
    "mse = MSE(y_test, pred, squared=True)\n",
    "rmse = MSE(y_test, pred, squared=False)\n",
    "mape = MAPE(y_test, pred)\n",
    "r2 = r2_score(y_test, pred)\n",
    "\n",
    "result = {'model':'random forest', 'mae':mae, 'mse':mse, 'rmse':rmse, 'mape':mape, 'r2':r2}\n",
    "result_df = pd.concat([result_df, pd.DataFrame([result])], ignore_index=True)"
   ]
  },
  {
   "cell_type": "markdown",
   "metadata": {},
   "source": [
    "#### XGBoostRFRegressor"
   ]
  },
  {
   "cell_type": "code",
   "execution_count": 198,
   "metadata": {},
   "outputs": [
    {
     "name": "stdout",
     "output_type": "stream",
     "text": [
      "Fitting 3 folds for each of 16 candidates, totalling 48 fits\n",
      "[CV 1/3; 1/16] START colsample_bytree=0.6, gamma=0.5, max_depth=10, subsample=0.6\n",
      "[CV 1/3; 1/16] END colsample_bytree=0.6, gamma=0.5, max_depth=10, subsample=0.6;, score=0.849 total time=   4.6s\n",
      "[CV 2/3; 1/16] START colsample_bytree=0.6, gamma=0.5, max_depth=10, subsample=0.6\n",
      "[CV 2/3; 1/16] END colsample_bytree=0.6, gamma=0.5, max_depth=10, subsample=0.6;, score=0.907 total time=   4.4s\n",
      "[CV 3/3; 1/16] START colsample_bytree=0.6, gamma=0.5, max_depth=10, subsample=0.6\n",
      "[CV 3/3; 1/16] END colsample_bytree=0.6, gamma=0.5, max_depth=10, subsample=0.6;, score=0.886 total time=   4.6s\n",
      "[CV 1/3; 2/16] START colsample_bytree=0.6, gamma=0.5, max_depth=10, subsample=1.0\n",
      "[CV 1/3; 2/16] END colsample_bytree=0.6, gamma=0.5, max_depth=10, subsample=1.0;, score=0.839 total time=   5.9s\n",
      "[CV 2/3; 2/16] START colsample_bytree=0.6, gamma=0.5, max_depth=10, subsample=1.0\n",
      "[CV 2/3; 2/16] END colsample_bytree=0.6, gamma=0.5, max_depth=10, subsample=1.0;, score=0.907 total time=   5.9s\n",
      "[CV 3/3; 2/16] START colsample_bytree=0.6, gamma=0.5, max_depth=10, subsample=1.0\n",
      "[CV 3/3; 2/16] END colsample_bytree=0.6, gamma=0.5, max_depth=10, subsample=1.0;, score=0.885 total time=   5.4s\n",
      "[CV 1/3; 3/16] START colsample_bytree=0.6, gamma=0.5, max_depth=30, subsample=0.6\n",
      "[CV 1/3; 3/16] END colsample_bytree=0.6, gamma=0.5, max_depth=30, subsample=0.6;, score=0.850 total time=  14.0s\n",
      "[CV 2/3; 3/16] START colsample_bytree=0.6, gamma=0.5, max_depth=30, subsample=0.6\n",
      "[CV 2/3; 3/16] END colsample_bytree=0.6, gamma=0.5, max_depth=30, subsample=0.6;, score=0.907 total time=  14.0s\n",
      "[CV 3/3; 3/16] START colsample_bytree=0.6, gamma=0.5, max_depth=30, subsample=0.6\n",
      "[CV 3/3; 3/16] END colsample_bytree=0.6, gamma=0.5, max_depth=30, subsample=0.6;, score=0.887 total time=  14.3s\n",
      "[CV 1/3; 4/16] START colsample_bytree=0.6, gamma=0.5, max_depth=30, subsample=1.0\n",
      "[CV 1/3; 4/16] END colsample_bytree=0.6, gamma=0.5, max_depth=30, subsample=1.0;, score=0.841 total time=  21.1s\n",
      "[CV 2/3; 4/16] START colsample_bytree=0.6, gamma=0.5, max_depth=30, subsample=1.0\n",
      "[CV 2/3; 4/16] END colsample_bytree=0.6, gamma=0.5, max_depth=30, subsample=1.0;, score=0.906 total time=  20.6s\n",
      "[CV 3/3; 4/16] START colsample_bytree=0.6, gamma=0.5, max_depth=30, subsample=1.0\n",
      "[CV 3/3; 4/16] END colsample_bytree=0.6, gamma=0.5, max_depth=30, subsample=1.0;, score=0.883 total time=  19.5s\n",
      "[CV 1/3; 5/16] START colsample_bytree=0.6, gamma=1, max_depth=10, subsample=0.6.\n",
      "[CV 1/3; 5/16] END colsample_bytree=0.6, gamma=1, max_depth=10, subsample=0.6;, score=0.849 total time=   4.8s\n",
      "[CV 2/3; 5/16] START colsample_bytree=0.6, gamma=1, max_depth=10, subsample=0.6.\n",
      "[CV 2/3; 5/16] END colsample_bytree=0.6, gamma=1, max_depth=10, subsample=0.6;, score=0.907 total time=   4.7s\n",
      "[CV 3/3; 5/16] START colsample_bytree=0.6, gamma=1, max_depth=10, subsample=0.6.\n",
      "[CV 3/3; 5/16] END colsample_bytree=0.6, gamma=1, max_depth=10, subsample=0.6;, score=0.886 total time=   4.7s\n",
      "[CV 1/3; 6/16] START colsample_bytree=0.6, gamma=1, max_depth=10, subsample=1.0.\n",
      "[CV 1/3; 6/16] END colsample_bytree=0.6, gamma=1, max_depth=10, subsample=1.0;, score=0.839 total time=   5.6s\n",
      "[CV 2/3; 6/16] START colsample_bytree=0.6, gamma=1, max_depth=10, subsample=1.0.\n",
      "[CV 2/3; 6/16] END colsample_bytree=0.6, gamma=1, max_depth=10, subsample=1.0;, score=0.907 total time=   5.6s\n",
      "[CV 3/3; 6/16] START colsample_bytree=0.6, gamma=1, max_depth=10, subsample=1.0.\n",
      "[CV 3/3; 6/16] END colsample_bytree=0.6, gamma=1, max_depth=10, subsample=1.0;, score=0.885 total time=   5.3s\n",
      "[CV 1/3; 7/16] START colsample_bytree=0.6, gamma=1, max_depth=30, subsample=0.6.\n",
      "[CV 1/3; 7/16] END colsample_bytree=0.6, gamma=1, max_depth=30, subsample=0.6;, score=0.850 total time=  14.0s\n",
      "[CV 2/3; 7/16] START colsample_bytree=0.6, gamma=1, max_depth=30, subsample=0.6.\n",
      "[CV 2/3; 7/16] END colsample_bytree=0.6, gamma=1, max_depth=30, subsample=0.6;, score=0.907 total time=  13.7s\n",
      "[CV 3/3; 7/16] START colsample_bytree=0.6, gamma=1, max_depth=30, subsample=0.6.\n",
      "[CV 3/3; 7/16] END colsample_bytree=0.6, gamma=1, max_depth=30, subsample=0.6;, score=0.887 total time=  14.0s\n",
      "[CV 1/3; 8/16] START colsample_bytree=0.6, gamma=1, max_depth=30, subsample=1.0.\n",
      "[CV 1/3; 8/16] END colsample_bytree=0.6, gamma=1, max_depth=30, subsample=1.0;, score=0.841 total time=  21.4s\n",
      "[CV 2/3; 8/16] START colsample_bytree=0.6, gamma=1, max_depth=30, subsample=1.0.\n",
      "[CV 2/3; 8/16] END colsample_bytree=0.6, gamma=1, max_depth=30, subsample=1.0;, score=0.906 total time=  19.1s\n",
      "[CV 3/3; 8/16] START colsample_bytree=0.6, gamma=1, max_depth=30, subsample=1.0.\n",
      "[CV 3/3; 8/16] END colsample_bytree=0.6, gamma=1, max_depth=30, subsample=1.0;, score=0.883 total time=  18.2s\n",
      "[CV 1/3; 9/16] START colsample_bytree=1.0, gamma=0.5, max_depth=10, subsample=0.6\n",
      "[CV 1/3; 9/16] END colsample_bytree=1.0, gamma=0.5, max_depth=10, subsample=0.6;, score=0.849 total time=   5.7s\n",
      "[CV 2/3; 9/16] START colsample_bytree=1.0, gamma=0.5, max_depth=10, subsample=0.6\n",
      "[CV 2/3; 9/16] END colsample_bytree=1.0, gamma=0.5, max_depth=10, subsample=0.6;, score=0.909 total time=   4.8s\n",
      "[CV 3/3; 9/16] START colsample_bytree=1.0, gamma=0.5, max_depth=10, subsample=0.6\n",
      "[CV 3/3; 9/16] END colsample_bytree=1.0, gamma=0.5, max_depth=10, subsample=0.6;, score=0.870 total time=   5.0s\n",
      "[CV 1/3; 10/16] START colsample_bytree=1.0, gamma=0.5, max_depth=10, subsample=1.0\n",
      "[CV 1/3; 10/16] END colsample_bytree=1.0, gamma=0.5, max_depth=10, subsample=1.0;, score=0.818 total time=   5.8s\n",
      "[CV 2/3; 10/16] START colsample_bytree=1.0, gamma=0.5, max_depth=10, subsample=1.0\n",
      "[CV 2/3; 10/16] END colsample_bytree=1.0, gamma=0.5, max_depth=10, subsample=1.0;, score=0.901 total time=   6.2s\n",
      "[CV 3/3; 10/16] START colsample_bytree=1.0, gamma=0.5, max_depth=10, subsample=1.0\n",
      "[CV 3/3; 10/16] END colsample_bytree=1.0, gamma=0.5, max_depth=10, subsample=1.0;, score=0.865 total time=   6.3s\n",
      "[CV 1/3; 11/16] START colsample_bytree=1.0, gamma=0.5, max_depth=30, subsample=0.6\n",
      "[CV 1/3; 11/16] END colsample_bytree=1.0, gamma=0.5, max_depth=30, subsample=0.6;, score=0.849 total time=  17.9s\n",
      "[CV 2/3; 11/16] START colsample_bytree=1.0, gamma=0.5, max_depth=30, subsample=0.6\n",
      "[CV 2/3; 11/16] END colsample_bytree=1.0, gamma=0.5, max_depth=30, subsample=0.6;, score=0.909 total time=  19.8s\n",
      "[CV 3/3; 11/16] START colsample_bytree=1.0, gamma=0.5, max_depth=30, subsample=0.6\n",
      "[CV 3/3; 11/16] END colsample_bytree=1.0, gamma=0.5, max_depth=30, subsample=0.6;, score=0.862 total time=  17.1s\n",
      "[CV 1/3; 12/16] START colsample_bytree=1.0, gamma=0.5, max_depth=30, subsample=1.0\n",
      "[CV 1/3; 12/16] END colsample_bytree=1.0, gamma=0.5, max_depth=30, subsample=1.0;, score=0.812 total time=  26.3s\n",
      "[CV 2/3; 12/16] START colsample_bytree=1.0, gamma=0.5, max_depth=30, subsample=1.0\n",
      "[CV 2/3; 12/16] END colsample_bytree=1.0, gamma=0.5, max_depth=30, subsample=1.0;, score=0.889 total time=  24.7s\n",
      "[CV 3/3; 12/16] START colsample_bytree=1.0, gamma=0.5, max_depth=30, subsample=1.0\n",
      "[CV 3/3; 12/16] END colsample_bytree=1.0, gamma=0.5, max_depth=30, subsample=1.0;, score=0.816 total time=  25.7s\n",
      "[CV 1/3; 13/16] START colsample_bytree=1.0, gamma=1, max_depth=10, subsample=0.6\n",
      "[CV 1/3; 13/16] END colsample_bytree=1.0, gamma=1, max_depth=10, subsample=0.6;, score=0.849 total time=   4.7s\n",
      "[CV 2/3; 13/16] START colsample_bytree=1.0, gamma=1, max_depth=10, subsample=0.6\n",
      "[CV 2/3; 13/16] END colsample_bytree=1.0, gamma=1, max_depth=10, subsample=0.6;, score=0.909 total time=   4.5s\n",
      "[CV 3/3; 13/16] START colsample_bytree=1.0, gamma=1, max_depth=10, subsample=0.6\n",
      "[CV 3/3; 13/16] END colsample_bytree=1.0, gamma=1, max_depth=10, subsample=0.6;, score=0.870 total time=   4.6s\n",
      "[CV 1/3; 14/16] START colsample_bytree=1.0, gamma=1, max_depth=10, subsample=1.0\n",
      "[CV 1/3; 14/16] END colsample_bytree=1.0, gamma=1, max_depth=10, subsample=1.0;, score=0.818 total time=   5.3s\n",
      "[CV 2/3; 14/16] START colsample_bytree=1.0, gamma=1, max_depth=10, subsample=1.0\n",
      "[CV 2/3; 14/16] END colsample_bytree=1.0, gamma=1, max_depth=10, subsample=1.0;, score=0.901 total time=   5.2s\n",
      "[CV 3/3; 14/16] START colsample_bytree=1.0, gamma=1, max_depth=10, subsample=1.0\n",
      "[CV 3/3; 14/16] END colsample_bytree=1.0, gamma=1, max_depth=10, subsample=1.0;, score=0.865 total time=   5.8s\n",
      "[CV 1/3; 15/16] START colsample_bytree=1.0, gamma=1, max_depth=30, subsample=0.6\n",
      "[CV 1/3; 15/16] END colsample_bytree=1.0, gamma=1, max_depth=30, subsample=0.6;, score=0.849 total time=  15.9s\n",
      "[CV 2/3; 15/16] START colsample_bytree=1.0, gamma=1, max_depth=30, subsample=0.6\n",
      "[CV 2/3; 15/16] END colsample_bytree=1.0, gamma=1, max_depth=30, subsample=0.6;, score=0.909 total time=  16.5s\n",
      "[CV 3/3; 15/16] START colsample_bytree=1.0, gamma=1, max_depth=30, subsample=0.6\n",
      "[CV 3/3; 15/16] END colsample_bytree=1.0, gamma=1, max_depth=30, subsample=0.6;, score=0.862 total time=  16.5s\n",
      "[CV 1/3; 16/16] START colsample_bytree=1.0, gamma=1, max_depth=30, subsample=1.0\n",
      "[CV 1/3; 16/16] END colsample_bytree=1.0, gamma=1, max_depth=30, subsample=1.0;, score=0.812 total time=  32.6s\n",
      "[CV 2/3; 16/16] START colsample_bytree=1.0, gamma=1, max_depth=30, subsample=1.0\n",
      "[CV 2/3; 16/16] END colsample_bytree=1.0, gamma=1, max_depth=30, subsample=1.0;, score=0.889 total time=  26.4s\n",
      "[CV 3/3; 16/16] START colsample_bytree=1.0, gamma=1, max_depth=30, subsample=1.0\n",
      "[CV 3/3; 16/16] END colsample_bytree=1.0, gamma=1, max_depth=30, subsample=1.0;, score=0.816 total time=  28.3s\n"
     ]
    },
    {
     "data": {
      "text/html": [
       "<style>#sk-container-id-22 {color: black;}#sk-container-id-22 pre{padding: 0;}#sk-container-id-22 div.sk-toggleable {background-color: white;}#sk-container-id-22 label.sk-toggleable__label {cursor: pointer;display: block;width: 100%;margin-bottom: 0;padding: 0.3em;box-sizing: border-box;text-align: center;}#sk-container-id-22 label.sk-toggleable__label-arrow:before {content: \"▸\";float: left;margin-right: 0.25em;color: #696969;}#sk-container-id-22 label.sk-toggleable__label-arrow:hover:before {color: black;}#sk-container-id-22 div.sk-estimator:hover label.sk-toggleable__label-arrow:before {color: black;}#sk-container-id-22 div.sk-toggleable__content {max-height: 0;max-width: 0;overflow: hidden;text-align: left;background-color: #f0f8ff;}#sk-container-id-22 div.sk-toggleable__content pre {margin: 0.2em;color: black;border-radius: 0.25em;background-color: #f0f8ff;}#sk-container-id-22 input.sk-toggleable__control:checked~div.sk-toggleable__content {max-height: 200px;max-width: 100%;overflow: auto;}#sk-container-id-22 input.sk-toggleable__control:checked~label.sk-toggleable__label-arrow:before {content: \"▾\";}#sk-container-id-22 div.sk-estimator input.sk-toggleable__control:checked~label.sk-toggleable__label {background-color: #d4ebff;}#sk-container-id-22 div.sk-label input.sk-toggleable__control:checked~label.sk-toggleable__label {background-color: #d4ebff;}#sk-container-id-22 input.sk-hidden--visually {border: 0;clip: rect(1px 1px 1px 1px);clip: rect(1px, 1px, 1px, 1px);height: 1px;margin: -1px;overflow: hidden;padding: 0;position: absolute;width: 1px;}#sk-container-id-22 div.sk-estimator {font-family: monospace;background-color: #f0f8ff;border: 1px dotted black;border-radius: 0.25em;box-sizing: border-box;margin-bottom: 0.5em;}#sk-container-id-22 div.sk-estimator:hover {background-color: #d4ebff;}#sk-container-id-22 div.sk-parallel-item::after {content: \"\";width: 100%;border-bottom: 1px solid gray;flex-grow: 1;}#sk-container-id-22 div.sk-label:hover label.sk-toggleable__label {background-color: #d4ebff;}#sk-container-id-22 div.sk-serial::before {content: \"\";position: absolute;border-left: 1px solid gray;box-sizing: border-box;top: 0;bottom: 0;left: 50%;z-index: 0;}#sk-container-id-22 div.sk-serial {display: flex;flex-direction: column;align-items: center;background-color: white;padding-right: 0.2em;padding-left: 0.2em;position: relative;}#sk-container-id-22 div.sk-item {position: relative;z-index: 1;}#sk-container-id-22 div.sk-parallel {display: flex;align-items: stretch;justify-content: center;background-color: white;position: relative;}#sk-container-id-22 div.sk-item::before, #sk-container-id-22 div.sk-parallel-item::before {content: \"\";position: absolute;border-left: 1px solid gray;box-sizing: border-box;top: 0;bottom: 0;left: 50%;z-index: -1;}#sk-container-id-22 div.sk-parallel-item {display: flex;flex-direction: column;z-index: 1;position: relative;background-color: white;}#sk-container-id-22 div.sk-parallel-item:first-child::after {align-self: flex-end;width: 50%;}#sk-container-id-22 div.sk-parallel-item:last-child::after {align-self: flex-start;width: 50%;}#sk-container-id-22 div.sk-parallel-item:only-child::after {width: 0;}#sk-container-id-22 div.sk-dashed-wrapped {border: 1px dashed gray;margin: 0 0.4em 0.5em 0.4em;box-sizing: border-box;padding-bottom: 0.4em;background-color: white;}#sk-container-id-22 div.sk-label label {font-family: monospace;font-weight: bold;display: inline-block;line-height: 1.2em;}#sk-container-id-22 div.sk-label-container {text-align: center;}#sk-container-id-22 div.sk-container {/* jupyter's `normalize.less` sets `[hidden] { display: none; }` but bootstrap.min.css set `[hidden] { display: none !important; }` so we also need the `!important` here to be able to override the default hidden behavior on the sphinx rendered scikit-learn.org. See: https://github.com/scikit-learn/scikit-learn/issues/21755 */display: inline-block !important;position: relative;}#sk-container-id-22 div.sk-text-repr-fallback {display: none;}</style><div id=\"sk-container-id-22\" class=\"sk-top-container\"><div class=\"sk-text-repr-fallback\"><pre>XGBRFRegressor(base_score=None, booster=None, callbacks=None,\n",
       "               colsample_bylevel=None, colsample_bytree=0.6, device=&#x27;cuda&#x27;,\n",
       "               early_stopping_rounds=None, enable_categorical=False, eta=0.05,\n",
       "               eval_metric=&#x27;mape&#x27;, feature_types=None, gamma=0.5,\n",
       "               grow_policy=None, importance_type=None,\n",
       "               interaction_constraints=None, max_bin=None,\n",
       "               max_cat_threshold=None, max_cat_to_onehot=None,\n",
       "               max_delta_step=None, max_depth=30, max_leaves=None,\n",
       "               min_child_weight=None, missing=nan, monotone_constraints=None,\n",
       "               multi_strategy=None, n_estimators=200, n_jobs=-1,\n",
       "               num_parallel_tree=None, objective=&#x27;reg:squarederror&#x27;,\n",
       "               random_state=None, ...)</pre><b>In a Jupyter environment, please rerun this cell to show the HTML representation or trust the notebook. <br />On GitHub, the HTML representation is unable to render, please try loading this page with nbviewer.org.</b></div><div class=\"sk-container\" hidden><div class=\"sk-item\"><div class=\"sk-estimator sk-toggleable\"><input class=\"sk-toggleable__control sk-hidden--visually\" id=\"sk-estimator-id-36\" type=\"checkbox\" checked><label for=\"sk-estimator-id-36\" class=\"sk-toggleable__label sk-toggleable__label-arrow\">XGBRFRegressor</label><div class=\"sk-toggleable__content\"><pre>XGBRFRegressor(base_score=None, booster=None, callbacks=None,\n",
       "               colsample_bylevel=None, colsample_bytree=0.6, device=&#x27;cuda&#x27;,\n",
       "               early_stopping_rounds=None, enable_categorical=False, eta=0.05,\n",
       "               eval_metric=&#x27;mape&#x27;, feature_types=None, gamma=0.5,\n",
       "               grow_policy=None, importance_type=None,\n",
       "               interaction_constraints=None, max_bin=None,\n",
       "               max_cat_threshold=None, max_cat_to_onehot=None,\n",
       "               max_delta_step=None, max_depth=30, max_leaves=None,\n",
       "               min_child_weight=None, missing=nan, monotone_constraints=None,\n",
       "               multi_strategy=None, n_estimators=200, n_jobs=-1,\n",
       "               num_parallel_tree=None, objective=&#x27;reg:squarederror&#x27;,\n",
       "               random_state=None, ...)</pre></div></div></div></div></div>"
      ],
      "text/plain": [
       "XGBRFRegressor(base_score=None, booster=None, callbacks=None,\n",
       "               colsample_bylevel=None, colsample_bytree=0.6, device='cuda',\n",
       "               early_stopping_rounds=None, enable_categorical=False, eta=0.05,\n",
       "               eval_metric='mape', feature_types=None, gamma=0.5,\n",
       "               grow_policy=None, importance_type=None,\n",
       "               interaction_constraints=None, max_bin=None,\n",
       "               max_cat_threshold=None, max_cat_to_onehot=None,\n",
       "               max_delta_step=None, max_depth=30, max_leaves=None,\n",
       "               min_child_weight=None, missing=nan, monotone_constraints=None,\n",
       "               multi_strategy=None, n_estimators=200, n_jobs=-1,\n",
       "               num_parallel_tree=None, objective='reg:squarederror',\n",
       "               random_state=None, ...)"
      ]
     },
     "execution_count": 198,
     "metadata": {},
     "output_type": "execute_result"
    }
   ],
   "source": [
    "xgb_r = xg.XGBRFRegressor(objective='reg:squarederror', n_estimators=200, eta=0.05, seed=1234, tree_method=\"hist\", device=\"cuda\", n_jobs=-1, eval_metric=\"mape\")\n",
    "\n",
    "params = {\n",
    "    'max_depth': [10, 30],\n",
    "    'gamma': [0.5, 1],\n",
    "    'subsample': [0.6, 1.0],\n",
    "    'colsample_bytree': [0.6, 1.0],\n",
    "}\n",
    "\n",
    "gs = GridSearchCV(\n",
    "    estimator = xgb_r,\n",
    "    param_grid = params,\n",
    "    verbose=10,\n",
    "    cv=3,\n",
    ")\n",
    "\n",
    "gs.fit(X_train.to_numpy(), y_train.to_numpy())\n",
    "\n",
    "model = gs.best_estimator_\n",
    "gs.best_estimator_"
   ]
  },
  {
   "cell_type": "code",
   "execution_count": 199,
   "metadata": {},
   "outputs": [],
   "source": [
    "pred = model.predict(X_test)"
   ]
  },
  {
   "cell_type": "code",
   "execution_count": 200,
   "metadata": {},
   "outputs": [],
   "source": [
    "mae = MAE(y_test, pred)\n",
    "mse = MSE(y_test, pred, squared=True)\n",
    "rmse = MSE(y_test, pred, squared=False)\n",
    "mape = MAPE(y_test, pred)\n",
    "r2 = r2_score(y_test, pred)\n",
    "\n",
    "result = {'model':'xgboostrf', 'mae':mae, 'mse':mse, 'rmse':rmse, 'mape':mape, 'r2':r2}\n",
    "result_df = pd.concat([result_df, pd.DataFrame([result])], ignore_index=True)"
   ]
  },
  {
   "cell_type": "markdown",
   "metadata": {},
   "source": [
    "#### CatBoost"
   ]
  },
  {
   "cell_type": "code",
   "execution_count": 205,
   "metadata": {},
   "outputs": [
    {
     "name": "stdout",
     "output_type": "stream",
     "text": [
      "Learning rate set to 0.044675\n",
      "0:\tlearn: 177049.7207230\ttotal: 151ms\tremaining: 2m 30s\n",
      "100:\tlearn: 61203.8531052\ttotal: 314ms\tremaining: 2.79s\n",
      "200:\tlearn: 54040.3067082\ttotal: 476ms\tremaining: 1.89s\n",
      "300:\tlearn: 50109.3597586\ttotal: 626ms\tremaining: 1.45s\n",
      "400:\tlearn: 47433.7237082\ttotal: 769ms\tremaining: 1.15s\n",
      "500:\tlearn: 45261.4419951\ttotal: 921ms\tremaining: 917ms\n",
      "600:\tlearn: 43414.2971107\ttotal: 1.06s\tremaining: 707ms\n",
      "700:\tlearn: 41972.1360387\ttotal: 1.21s\tremaining: 518ms\n",
      "800:\tlearn: 40670.9337503\ttotal: 1.35s\tremaining: 335ms\n",
      "900:\tlearn: 39482.6674956\ttotal: 1.49s\tremaining: 164ms\n",
      "999:\tlearn: 38365.8077322\ttotal: 1.63s\tremaining: 0us\n"
     ]
    },
    {
     "data": {
      "text/plain": [
       "<catboost.core.CatBoostRegressor at 0x1a0e5cc7910>"
      ]
     },
     "execution_count": 205,
     "metadata": {},
     "output_type": "execute_result"
    }
   ],
   "source": [
    "from catboost import CatBoostRegressor\n",
    "\n",
    "model = CatBoostRegressor(loss_function='RMSE')\n",
    "\n",
    "model.fit(X_train, y_train, verbose=100)"
   ]
  },
  {
   "cell_type": "code",
   "execution_count": 206,
   "metadata": {},
   "outputs": [],
   "source": [
    "pred = model.predict(X_test)"
   ]
  },
  {
   "cell_type": "code",
   "execution_count": 207,
   "metadata": {},
   "outputs": [],
   "source": [
    "mae = MAE(y_test, pred)\n",
    "mse = MSE(y_test, pred, squared=True)\n",
    "rmse = MSE(y_test, pred, squared=False)\n",
    "mape = MAPE(y_test, pred)\n",
    "r2 = r2_score(y_test, pred)\n",
    "\n",
    "result = {'model':'catboost', 'mae':mae, 'mse':mse, 'rmse':rmse, 'mape':mape, 'r2':r2}\n",
    "result_df = pd.concat([result_df, pd.DataFrame([result])], ignore_index=True)"
   ]
  },
  {
   "cell_type": "markdown",
   "metadata": {},
   "source": [
    "#### LightBGM"
   ]
  },
  {
   "cell_type": "code",
   "execution_count": 222,
   "metadata": {},
   "outputs": [
    {
     "name": "stdout",
     "output_type": "stream",
     "text": [
      "[LightGBM] [Warning] Found whitespace in feature_names, replace with underlines\n",
      "[LightGBM] [Info] Auto-choosing row-wise multi-threading, the overhead of testing was 0.000047 seconds.\n",
      "You can set `force_row_wise=true` to remove the overhead.\n",
      "And if memory is not enough, you can set `force_col_wise=true`.\n",
      "[LightGBM] [Info] Total Bins 376\n",
      "[LightGBM] [Info] Number of data points in the train set: 1737, number of used features: 47\n",
      "[LightGBM] [Info] Start training from score 451456.712723\n"
     ]
    }
   ],
   "source": [
    "from lightgbm import LGBMRegressor\n",
    " \n",
    "model = LGBMRegressor(metric='mape')\n",
    " \n",
    "model.fit(X_train, y_train)\n",
    " \n",
    "pred = model.predict(X_test)"
   ]
  },
  {
   "cell_type": "code",
   "execution_count": 223,
   "metadata": {},
   "outputs": [],
   "source": [
    "pred = model.predict(X_test)"
   ]
  },
  {
   "cell_type": "code",
   "execution_count": 224,
   "metadata": {},
   "outputs": [],
   "source": [
    "mae = MAE(y_test, pred)\n",
    "mse = MSE(y_test, pred, squared=True)\n",
    "rmse = MSE(y_test, pred, squared=False)\n",
    "mape = MAPE(y_test, pred)\n",
    "r2 = r2_score(y_test, pred)\n",
    "\n",
    "result = {'model':'lightbgm', 'mae':mae, 'mse':mse, 'rmse':rmse, 'mape':mape, 'r2':r2}\n",
    "result_df = pd.concat([result_df, pd.DataFrame([result])], ignore_index=True)"
   ]
  },
  {
   "cell_type": "markdown",
   "metadata": {},
   "source": [
    "#### AdaBoost"
   ]
  },
  {
   "cell_type": "code",
   "execution_count": 262,
   "metadata": {},
   "outputs": [],
   "source": [
    "from sklearn.ensemble import AdaBoostRegressor\n",
    "\n",
    "clf = DecisionTreeRegressor(max_depth=15, random_state=1234)\n",
    "model = AdaBoostRegressor(estimator=clf, n_estimators=200)\n",
    "\n",
    "model.fit(X_train, y_train)\n",
    " \n",
    "pred = model.predict(X_test)"
   ]
  },
  {
   "cell_type": "code",
   "execution_count": 267,
   "metadata": {},
   "outputs": [],
   "source": [
    "mae = MAE(y_test, pred)\n",
    "mse = MSE(y_test, pred, squared=True)\n",
    "rmse = MSE(y_test, pred, squared=False)\n",
    "mape = MAPE(y_test, pred)\n",
    "r2 = r2_score(y_test, pred)\n",
    "\n",
    "result = {'model':'adaboost', 'mae':mae, 'mse':mse, 'rmse':rmse, 'mape':mape, 'r2':r2}\n",
    "result_df = pd.concat([result_df, pd.DataFrame([result])], ignore_index=True)"
   ]
  },
  {
   "cell_type": "code",
   "execution_count": 268,
   "metadata": {},
   "outputs": [
    {
     "data": {
      "text/html": [
       "<div>\n",
       "<style scoped>\n",
       "    .dataframe tbody tr th:only-of-type {\n",
       "        vertical-align: middle;\n",
       "    }\n",
       "\n",
       "    .dataframe tbody tr th {\n",
       "        vertical-align: top;\n",
       "    }\n",
       "\n",
       "    .dataframe thead th {\n",
       "        text-align: right;\n",
       "    }\n",
       "</style>\n",
       "<table border=\"1\" class=\"dataframe\">\n",
       "  <thead>\n",
       "    <tr style=\"text-align: right;\">\n",
       "      <th></th>\n",
       "      <th>model</th>\n",
       "      <th>mae</th>\n",
       "      <th>mse</th>\n",
       "      <th>rmse</th>\n",
       "      <th>mape</th>\n",
       "      <th>r2</th>\n",
       "    </tr>\n",
       "  </thead>\n",
       "  <tbody>\n",
       "    <tr>\n",
       "      <th>0</th>\n",
       "      <td>mean price</td>\n",
       "      <td>54430.452623</td>\n",
       "      <td>6.043130e+09</td>\n",
       "      <td>77737.574557</td>\n",
       "      <td>0.122708</td>\n",
       "      <td>0.823955</td>\n",
       "    </tr>\n",
       "    <tr>\n",
       "      <th>1</th>\n",
       "      <td>xgboost</td>\n",
       "      <td>37398.533190</td>\n",
       "      <td>3.098090e+09</td>\n",
       "      <td>55660.489503</td>\n",
       "      <td>0.088040</td>\n",
       "      <td>0.909748</td>\n",
       "    </tr>\n",
       "    <tr>\n",
       "      <th>2</th>\n",
       "      <td>decision tree</td>\n",
       "      <td>42068.542744</td>\n",
       "      <td>3.623734e+09</td>\n",
       "      <td>60197.454967</td>\n",
       "      <td>0.095959</td>\n",
       "      <td>0.894435</td>\n",
       "    </tr>\n",
       "    <tr>\n",
       "      <th>3</th>\n",
       "      <td>random forest</td>\n",
       "      <td>36090.358191</td>\n",
       "      <td>2.571369e+09</td>\n",
       "      <td>50708.663122</td>\n",
       "      <td>0.083361</td>\n",
       "      <td>0.925092</td>\n",
       "    </tr>\n",
       "    <tr>\n",
       "      <th>4</th>\n",
       "      <td>xgboostrf</td>\n",
       "      <td>36595.347414</td>\n",
       "      <td>2.743594e+09</td>\n",
       "      <td>52379.328157</td>\n",
       "      <td>0.084798</td>\n",
       "      <td>0.920075</td>\n",
       "    </tr>\n",
       "    <tr>\n",
       "      <th>5</th>\n",
       "      <td>catboost</td>\n",
       "      <td>36393.969129</td>\n",
       "      <td>2.563294e+09</td>\n",
       "      <td>50628.982163</td>\n",
       "      <td>0.084451</td>\n",
       "      <td>0.925327</td>\n",
       "    </tr>\n",
       "    <tr>\n",
       "      <th>6</th>\n",
       "      <td>lightbgm</td>\n",
       "      <td>38014.908338</td>\n",
       "      <td>2.816030e+09</td>\n",
       "      <td>53066.280099</td>\n",
       "      <td>0.088405</td>\n",
       "      <td>0.917965</td>\n",
       "    </tr>\n",
       "    <tr>\n",
       "      <th>7</th>\n",
       "      <td>adaboost</td>\n",
       "      <td>48631.148586</td>\n",
       "      <td>4.978804e+09</td>\n",
       "      <td>70560.637490</td>\n",
       "      <td>0.122315</td>\n",
       "      <td>0.854960</td>\n",
       "    </tr>\n",
       "  </tbody>\n",
       "</table>\n",
       "</div>"
      ],
      "text/plain": [
       "           model           mae           mse          rmse      mape        r2\n",
       "0     mean price  54430.452623  6.043130e+09  77737.574557  0.122708  0.823955\n",
       "1        xgboost  37398.533190  3.098090e+09  55660.489503  0.088040  0.909748\n",
       "2  decision tree  42068.542744  3.623734e+09  60197.454967  0.095959  0.894435\n",
       "3  random forest  36090.358191  2.571369e+09  50708.663122  0.083361  0.925092\n",
       "4      xgboostrf  36595.347414  2.743594e+09  52379.328157  0.084798  0.920075\n",
       "5       catboost  36393.969129  2.563294e+09  50628.982163  0.084451  0.925327\n",
       "6       lightbgm  38014.908338  2.816030e+09  53066.280099  0.088405  0.917965\n",
       "7       adaboost  48631.148586  4.978804e+09  70560.637490  0.122315  0.854960"
      ]
     },
     "execution_count": 268,
     "metadata": {},
     "output_type": "execute_result"
    }
   ],
   "source": [
    "result_df"
   ]
  },
  {
   "cell_type": "code",
   "execution_count": null,
   "metadata": {},
   "outputs": [],
   "source": []
  }
 ],
 "metadata": {
  "kernelspec": {
   "display_name": "Python 3",
   "language": "python",
   "name": "python3"
  },
  "language_info": {
   "codemirror_mode": {
    "name": "ipython",
    "version": 3
   },
   "file_extension": ".py",
   "mimetype": "text/x-python",
   "name": "python",
   "nbconvert_exporter": "python",
   "pygments_lexer": "ipython3",
   "version": "3.10.11"
  }
 },
 "nbformat": 4,
 "nbformat_minor": 2
}
